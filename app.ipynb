{
 "cells": [
  {
   "cell_type": "code",
   "execution_count": 14,
   "metadata": {},
   "outputs": [
    {
     "name": "stdout",
     "output_type": "stream",
     "text": [
      "URLs extracted to extracted_urls.txt\n"
     ]
    }
   ],
   "source": [
    "import requests\n",
    "from lxml import etree\n",
    "\n",
    "# Replace this list with your actual list of URLs\n",
    "list_of_urls = [\n",
    "    'https://infinitalab.com/post-sitemap.xml',\n",
    "    'https://infinitalab.com/post-sitemap2.xml',\n",
    "    'https://infinitalab.com/post-sitemap3.xml',\n",
    "    'https://infinitalab.com/post-sitemap4.xml',\n",
    "    'https://infinitalab.com/page-sitemap.xml',\n",
    "    'https://infinitalab.com/category-sitemap.xml',\n",
    "    # Add more URLs as needed\n",
    "]\n",
    "\n",
    "output_file = 'links.txt'\n",
    "\n",
    "with open(output_file, 'w') as file:\n",
    "    for url in list_of_urls:\n",
    "        # Fetch the content of the URL\n",
    "        response = requests.get(url)\n",
    "        if response.status_code == 200:\n",
    "            # Parse the XML content\n",
    "            root = etree.fromstring(response.content)\n",
    "            # Find all <loc> tags and write their text content to the file\n",
    "            for loc in root.findall('.//{http://www.sitemaps.org/schemas/sitemap/0.9}loc'):\n",
    "                file.write(loc.text + '\\n')\n",
    "\n",
    "print(f'URLs extracted to {output_file}')"
   ]
  },
  {
   "cell_type": "code",
   "execution_count": 13,
   "metadata": {},
   "outputs": [
    {
     "name": "stdout",
     "output_type": "stream",
     "text": [
      "None\n"
     ]
    }
   ],
   "source": []
  },
  {
   "cell_type": "code",
   "execution_count": 2,
   "metadata": {},
   "outputs": [
    {
     "name": "stdout",
     "output_type": "stream",
     "text": [
      "Requirement already satisfied: requests in /home/vardh/.venv/lib/python3.10/site-packages (2.31.0)\n",
      "Collecting beautifulsoup4\n",
      "  Downloading beautifulsoup4-4.12.3-py3-none-any.whl (147 kB)\n",
      "\u001b[2K     \u001b[90m━━━━━━━━━━━━━━━━━━━━━━━━━━━━━━━━━━━━━━━\u001b[0m \u001b[32m147.9/147.9 kB\u001b[0m \u001b[31m1.6 MB/s\u001b[0m eta \u001b[36m0:00:00\u001b[0ma \u001b[36m0:00:01\u001b[0m\n",
      "\u001b[?25hRequirement already satisfied: urllib3<3,>=1.21.1 in /home/vardh/.venv/lib/python3.10/site-packages (from requests) (2.2.1)\n",
      "Requirement already satisfied: certifi>=2017.4.17 in /home/vardh/.venv/lib/python3.10/site-packages (from requests) (2024.2.2)\n",
      "Requirement already satisfied: charset-normalizer<4,>=2 in /home/vardh/.venv/lib/python3.10/site-packages (from requests) (3.3.2)\n",
      "Requirement already satisfied: idna<4,>=2.5 in /home/vardh/.venv/lib/python3.10/site-packages (from requests) (3.6)\n",
      "Collecting soupsieve>1.2\n",
      "  Downloading soupsieve-2.5-py3-none-any.whl (36 kB)\n",
      "Installing collected packages: soupsieve, beautifulsoup4\n",
      "Successfully installed beautifulsoup4-4.12.3 soupsieve-2.5\n",
      "\n",
      "\u001b[1m[\u001b[0m\u001b[34;49mnotice\u001b[0m\u001b[1;39;49m]\u001b[0m\u001b[39;49m A new release of pip is available: \u001b[0m\u001b[31;49m23.0.1\u001b[0m\u001b[39;49m -> \u001b[0m\u001b[32;49m24.0\u001b[0m\n",
      "\u001b[1m[\u001b[0m\u001b[34;49mnotice\u001b[0m\u001b[1;39;49m]\u001b[0m\u001b[39;49m To update, run: \u001b[0m\u001b[32;49mpip install --upgrade pip\u001b[0m\n",
      "Note: you may need to restart the kernel to use updated packages.\n"
     ]
    }
   ],
   "source": [
    "pip install requests beautifulsoup4"
   ]
  },
  {
   "cell_type": "code",
   "execution_count": 3,
   "metadata": {},
   "outputs": [
    {
     "name": "stderr",
     "output_type": "stream",
     "text": [
      "/home/vardhanam/.venv/lib/python3.10/site-packages/tqdm/auto.py:21: TqdmWarning: IProgress not found. Please update jupyter and ipywidgets. See https://ipywidgets.readthedocs.io/en/stable/user_install.html\n",
      "  from .autonotebook import tqdm as notebook_tqdm\n"
     ]
    }
   ],
   "source": [
    "from transformers import (\n",
    "AutoTokenizer,\n",
    "AutoModelForCausalLM,\n",
    "BitsAndBytesConfig,\n",
    "pipeline\n",
    ")\n",
    "\n",
    "import torch\n",
    "\n",
    "import streamlit as st\n",
    "\n",
    "import os\n",
    "\n",
    "from langchain.llms import HuggingFacePipeline\n",
    "from langchain_community.document_loaders import WebBaseLoader\n",
    "from langchain.text_splitter import RecursiveCharacterTextSplitter\n",
    "from langchain_community.vectorstores import FAISS\n",
    "from langchain.embeddings import HuggingFaceEmbeddings\n",
    "from langchain_core.prompts import ChatPromptTemplate, PromptTemplate, format_document\n",
    "from langchain_core.runnables import RunnableLambda, RunnablePassthrough, RunnableParallel\n",
    "from langchain_core.output_parsers import StrOutputParser\n",
    "from langchain.memory import ConversationBufferMemory\n",
    "from langchain_core.messages import AIMessage, HumanMessage, get_buffer_string\n",
    "\n",
    "from operator import itemgetter"
   ]
  },
  {
   "cell_type": "code",
   "execution_count": 4,
   "metadata": {},
   "outputs": [],
   "source": [
    "def load_llm():\n",
    "\n",
    "    #Loading the Mistral Model\n",
    "    model_name='mistralai/Mistral-7B-Instruct-v0.2'\n",
    "    tokenizer = AutoTokenizer.from_pretrained(model_name, trust_remote_code=True)\n",
    "    tokenizer.pad_token = tokenizer.eos_token\n",
    "    tokenizer.padding_side = \"right\"\n",
    "\n",
    "    bnb_config = BitsAndBytesConfig(\n",
    "        load_in_4bit=True,\n",
    "        bnb_4bit_quant_type=\"nf4\",\n",
    "        bnb_4bit_use_double_quant=True,\n",
    "        bnb_4bit_compute_dtype=torch.bfloat16\n",
    "    )\n",
    "\n",
    "\n",
    "    model = AutoModelForCausalLM.from_pretrained(\n",
    "        model_name,\n",
    "        quantization_config=bnb_config,\n",
    "    )\n",
    "\n",
    "    # Building a LLM text-generation pipeline\n",
    "    text_generation_pipeline = pipeline(\n",
    "        model=model,\n",
    "        tokenizer=tokenizer,\n",
    "        task=\"text-generation\",\n",
    "        temperature=0.2,\n",
    "        repetition_penalty=1.1,\n",
    "        return_full_text=True,\n",
    "        max_new_tokens=1024,\n",
    "    )\n",
    "\n",
    "    llm = HuggingFacePipeline(pipeline= text_generation_pipeline)\n",
    "\n",
    "    return llm"
   ]
  },
  {
   "cell_type": "code",
   "execution_count": 5,
   "metadata": {},
   "outputs": [],
   "source": [
    "def embeddings_model():\n",
    "    embeddings = HuggingFaceEmbeddings(\n",
    "        model_name=\"sentence-transformers/all-mpnet-base-v2\"\n",
    "    )\n",
    "    return embeddings"
   ]
  },
  {
   "cell_type": "code",
   "execution_count": 6,
   "metadata": {},
   "outputs": [],
   "source": [
    "def initialize_vectorstore():\n",
    "\n",
    "    # Read URLs from the links.txt file and store them in a list\n",
    "    with open('links.txt', 'r') as file:\n",
    "        urls_list = [line.strip() for line in file if line.strip()]\n",
    "\n",
    "    urls_list = list(set(urls_list))\n",
    "    #Initializing a text_splitter\n",
    "    text_splitter = RecursiveCharacterTextSplitter(\n",
    "        chunk_size=1000,\n",
    "        chunk_overlap=20,\n",
    "        length_function=len,\n",
    "        is_separator_regex=False,\n",
    "    )\n",
    "\n",
    "    #Loading all the content of the urls in docs format\n",
    "    loader = WebBaseLoader(urls_list)\n",
    "    docs = loader.load_and_split(text_splitter=text_splitter)\n",
    "\n",
    "    vectorstore = FAISS.from_documents(\n",
    "        docs, embedding=hf_embeddings\n",
    "    )\n",
    "    retriever = vectorstore.as_retriever(search_kwargs = {'k':10})\n",
    "    return retriever"
   ]
  },
  {
   "cell_type": "code",
   "execution_count": 7,
   "metadata": {},
   "outputs": [],
   "source": [
    "def return_chain_elements():\n",
    "\n",
    "    #template to get the Standalone question\n",
    "    _template = \"\"\"Given the following conversation and a follow up question, rephrase the follow up question to be a standalone question, in its original language.\n",
    "\n",
    "        Chat History:\n",
    "        {chat_history}\n",
    "        Follow Up Input: {question}\n",
    "        Standalone question:\n",
    "    \"\"\"\n",
    "    CONDENSE_QUESTION_PROMPT = PromptTemplate.from_template(_template)\n",
    "\n",
    "    #Function to create the context from retrieved documents\n",
    "    DEFAULT_DOCUMENT_PROMPT = PromptTemplate.from_template(template=\"{page_content}\")\n",
    "    def _combine_documents(\n",
    "        docs, document_prompt=DEFAULT_DOCUMENT_PROMPT, document_separator=\"\\n\\n\"\n",
    "    ):\n",
    "        doc_strings = [format_document(doc, document_prompt) for doc in docs]\n",
    "        return document_separator.join(doc_strings)\n",
    "\n",
    "    #Creating the template for the final answer\n",
    "    template = \"\"\"Answer the question based only on the following context:\n",
    "        {context}\n",
    "\n",
    "        Question: {question}\n",
    "    \"\"\"\n",
    "    ANSWER_PROMPT = ChatPromptTemplate.from_template(template)\n",
    "\n",
    "\n",
    "    # Now we calculate the standalone question\n",
    "    standalone_question = {\n",
    "        \"standalone_question\": {\n",
    "            \"question\": lambda x: x[\"question\"],\n",
    "            \"chat_history\": lambda x: get_buffer_string(x[\"chat_history\"]),\n",
    "        }\n",
    "        | CONDENSE_QUESTION_PROMPT\n",
    "        | llm\n",
    "        | StrOutputParser(),\n",
    "    }\n",
    "\n",
    "    # Now we retrieve the documents\n",
    "    retrieved_documents = {\n",
    "        \"docs\": itemgetter(\"standalone_question\") | vector_retriever,\n",
    "        \"question\": lambda x: x[\"standalone_question\"],\n",
    "    }\n",
    "\n",
    "    # Now we construct the inputs for the final prompt\n",
    "    final_inputs = {\n",
    "        \"context\": lambda x: _combine_documents(x[\"docs\"]),\n",
    "        \"question\": itemgetter(\"question\"),\n",
    "    }\n",
    "\n",
    "    # And finally, we do the part that returns the answers\n",
    "    answer = {\n",
    "        \"answer\": final_inputs | ANSWER_PROMPT | llm,\n",
    "        \"docs\": itemgetter(\"docs\"),\n",
    "    }\n",
    "\n",
    "    return standalone_question, retrieved_documents, answer\n"
   ]
  },
  {
   "cell_type": "code",
   "execution_count": 8,
   "metadata": {},
   "outputs": [
    {
     "name": "stderr",
     "output_type": "stream",
     "text": [
      "`low_cpu_mem_usage` was None, now set to True since model is quantized.\n",
      "Loading checkpoint shards: 100%|██████████| 3/3 [00:10<00:00,  3.57s/it]\n"
     ]
    }
   ],
   "source": [
    "llm = load_llm()\n",
    "\n",
    "hf_embeddings = embeddings_model()\n",
    "\n",
    "vector_retriever = initialize_vectorstore()\n",
    "\n",
    "standalone_question, retrieved_documents, answer = return_chain_elements()"
   ]
  },
  {
   "cell_type": "code",
   "execution_count": 9,
   "metadata": {},
   "outputs": [],
   "source": [
    "conversational_memory = ConversationBufferMemory(\n",
    "        return_messages=True, output_key=\"answer\", input_key=\"question\"\n",
    "    )"
   ]
  },
  {
   "cell_type": "code",
   "execution_count": 10,
   "metadata": {},
   "outputs": [],
   "source": [
    "loaded_memory = RunnablePassthrough.assign(\n",
    "    chat_history=RunnableLambda(conversational_memory.load_memory_variables) | itemgetter(\"history\"),\n",
    ")"
   ]
  },
  {
   "cell_type": "code",
   "execution_count": 11,
   "metadata": {},
   "outputs": [],
   "source": [
    "chain = loaded_memory | standalone_question | retrieved_documents | answer"
   ]
  },
  {
   "cell_type": "code",
   "execution_count": 12,
   "metadata": {},
   "outputs": [],
   "source": [
    "inputs = {\"question\": \"How do I start a GPU node?\"}"
   ]
  },
  {
   "cell_type": "code",
   "execution_count": 13,
   "metadata": {},
   "outputs": [
    {
     "name": "stderr",
     "output_type": "stream",
     "text": [
      "/home/vardhanam/.venv/lib/python3.10/site-packages/transformers/generation/configuration_utils.py:410: UserWarning: `do_sample` is set to `False`. However, `temperature` is set to `0.2` -- this flag is only used in sample-based generation modes. You should set `do_sample=True` or unset `temperature`.\n",
      "  warnings.warn(\n",
      "Setting `pad_token_id` to `eos_token_id`:2 for open-end generation.\n"
     ]
    },
    {
     "name": "stderr",
     "output_type": "stream",
     "text": [
      "/home/vardhanam/.venv/lib/python3.10/site-packages/transformers/generation/configuration_utils.py:410: UserWarning: `do_sample` is set to `False`. However, `temperature` is set to `0.2` -- this flag is only used in sample-based generation modes. You should set `do_sample=True` or unset `temperature`.\n",
      "  warnings.warn(\n",
      "Setting `pad_token_id` to `eos_token_id`:2 for open-end generation.\n"
     ]
    }
   ],
   "source": [
    "result = chain.invoke(inputs)"
   ]
  },
  {
   "cell_type": "code",
   "execution_count": 14,
   "metadata": {},
   "outputs": [
    {
     "data": {
      "text/plain": [
       "{'answer': '\\n\\n\\n\\nAnswer:\\nTo start a GPU node using the E2E Networks Myaccount portal, follow these steps:\\n\\n1. Log in to your E2E Networks account at https://myaccount.e2enetworks.com/.\\n2. Navigate to the \"Compute\" tab and select \"GPU\" from the dropdown menu.\\n3. Click the \"Create\" button to initiate the creation of a new GPU node.\\n4. Choose the desired GPU instance type and specify any additional settings or configurations.\\n5. Once the node has been created, you\\'ll be taken to its details page. Here, you can find the public IP address and other relevant information.\\n6. To start the node, click the \"Start\" button located near the top of the page. The node will begin booting up and should be ready to use within a few minutes.\\n\\nIf you encounter any issues during the process, please refer to the E2E Networks documentation or contact our support team for assistance.',\n",
       " 'docs': [Document(page_content='How to Launch GPU H100 notebook | E2E Networks  documentation\\n\\n\\n\\n\\n\\n\\n\\n\\n\\n\\n\\n\\n\\n\\n\\n\\n\\n\\n\\n\\n      Skip to content\\n    \\n\\n\\n\\nE2E Cloud\\n\\nDocs\\nE2E Networks\\n\\n\\n\\n\\nToggle navigation menu\\n\\n\\n\\n\\n\\n              Login\\n            \\n\\n\\n\\n              Sign Up\\n            \\n\\n\\n\\n\\n\\n\\n\\n\\n\\n\\n\\n\\n\\n\\n\\n\\nE2E Networks  documentation\\n\\n\\n\\n\\n\\n⌘\\n    K\\n  \\n\\n\\n\\nDocs\\nE2E Networks\\n\\nMyaccount\\n\\n        Getting Started with Myaccount\\nSignUp Process for Indian Customers\\nCustomer validation Process for Indian Customers\\nSignUp Process for International Customers\\nCustomer Validation Process for International Process\\nCustomer Validation Process for Contact Persons\\nDomestic Customer Validation Process FAQs\\nInternational Customer Validation Process FAQs\\nSign In Process\\n\\n\\n   Release Notes\\n\\nCompute\\n\\nNodes\\n Virtual Compute Nodes\\n Monitoring\\n 1-Click Deployment\\n Active Directory\\n\\n\\nGPU\\nGPU Cloud\\n\\n\\nEQS\\nIntroduction\\nHow to Create EQS ?\\nActions\\nAdd Queue under tab\\nActions for queue service:\\nUsing SDK\\n\\n\\nAppliance\\nLoad Balancer Appliance', metadata={'source': 'https://docs.e2enetworks.com/AI_ML/gpu_notebook_h100.html', 'title': 'How to Launch GPU H100 notebook | E2E Networks  documentation', 'language': 'en'}),\n",
       "  Document(page_content='Welcome to E2E GPU Cloud Documentation!\\nWelcome to the E2E GPU Cloud documentation! This comprehensive guide is designed to acquaint you with the vast array of\\nGPU computing solutions offered by E2E Networks. From high-performance Nvidia Tesla GPUs to versatile Nvidia Grid solutions,\\nthis documentation covers a range of topics to maximize your GPU cloud computing experience.\\nBegin with an Introduction to GPU Cloud Computing, exploring the benefits and applications of GPU-accelerated computing\\nin various fields. Dive deep into specific GPU offerings, such as Nvidia Tesla V100,\\nNvidia Tesla T4, and the\\nNVIDIA A40 and A100 GPUs. These sections provide detailed insights into each GPU’s capabilities and use cases.\\nFor developers and data scientists, the documentation includes practical guides and tutorials.\\nLearn how to leverage the NVIDIA® GPU Cloud (NGC) with E2E Cloud Compute for', metadata={'source': 'https://docs.e2enetworks.com/gpucloud/index.html', 'title': 'Welcome to E2E GPU Cloud Documentation! | E2E Networks  documentation', 'language': 'en'}),\n",
       "  Document(page_content='Welcome to E2E GPU Cloud Documentation!\\nWelcome to the E2E GPU Cloud documentation! This comprehensive guide is designed to acquaint you with the vast array of\\nGPU computing solutions offered by E2E Networks. From high-performance Nvidia Tesla GPUs to versatile Nvidia Grid solutions,\\nthis documentation covers a range of topics to maximize your GPU cloud computing experience.\\nBegin with an Introduction to GPU Cloud Computing, exploring the benefits and applications of GPU-accelerated computing\\nin various fields. Dive deep into specific GPU offerings, such as Nvidia Tesla V100,\\nNvidia Tesla T4, and the\\nNVIDIA A40 and A100 GPUs. These sections provide detailed insights into each GPU’s capabilities and use cases.\\nFor developers and data scientists, the documentation includes practical guides and tutorials.\\nLearn how to leverage the NVIDIA® GPU Cloud (NGC) with E2E Cloud Compute for', metadata={'source': 'https://docs.e2enetworks.com/gpucloud/index.html', 'title': 'Welcome to E2E GPU Cloud Documentation! | E2E Networks  documentation', 'language': 'en'}),\n",
       "  Document(page_content='Welcome to E2E GPU Cloud Documentation!\\nWelcome to the E2E GPU Cloud documentation! This comprehensive guide is designed to acquaint you with the vast array of\\nGPU computing solutions offered by E2E Networks. From high-performance Nvidia Tesla GPUs to versatile Nvidia Grid solutions,\\nthis documentation covers a range of topics to maximize your GPU cloud computing experience.\\nBegin with an Introduction to GPU Cloud Computing, exploring the benefits and applications of GPU-accelerated computing\\nin various fields. Dive deep into specific GPU offerings, such as Nvidia Tesla V100,\\nNvidia Tesla T4, and the\\nNVIDIA A40 and A100 GPUs. These sections provide detailed insights into each GPU’s capabilities and use cases.\\nFor developers and data scientists, the documentation includes practical guides and tutorials.\\nLearn how to leverage the NVIDIA® GPU Cloud (NGC) with E2E Cloud Compute for', metadata={'source': 'https://docs.e2enetworks.com/gpucloud/index.html', 'title': 'Welcome to E2E GPU Cloud Documentation! | E2E Networks  documentation', 'language': 'en'}),\n",
       "  Document(page_content='After clicking on the create button your GPU will be created and it will be shown like this.\\n\\n\\nNotebook Details\\n\\nOverview\\nYou can see the Notebook Details, Plan Details under Overview tab.\\n\\n\\n\\nDisk Size\\nYou can see the details disk size and also You can change the Disk size as per your requirements.\\n\\nFor updating the disk size you have to change the disk size and then click on update button.\\n\\n\\n\\nMetrics\\nYou can see the Metrics graph in CPU Utilization , Memory Utilization & Interval.\\n\\nYou can see the one month activity as per your requirement in days & hours.\\n\\n\\n\\nAssociated Datasets\\nYou can also see the Associated Datasets with two different datasets- Mounted & Unmounted. You can also Unmount.\\n\\n\\n\\nSSH Key\\nYou can see the SSH Key Details under ssh key tab.\\n\\n\\n\\nUpdate SSH Key\\n\\nNote\\nOnly one SSH key can be added to a nLaunch Notebook from Sidebar\\n\\n\\nYou can launch the notebook from the left side of the Notebook name .\\n\\notebook', metadata={'source': 'https://docs.e2enetworks.com/AI_ML/notebooks.html', 'title': 'Notebooks | E2E Networks  documentation', 'language': 'en'}),\n",
       "  Document(page_content='Manage GPU with E2E\\nActions\\nAccess Console\\nPower Off\\nStart\\nReboot\\nReinstall\\nSave Image\\nConvert to committed Node\\nEnable Recovery Node\\nLock Node\\nDelete\\n\\n\\n\\n\\n\\n\\n\\n\\n\\n\\n\\n\\nProducts\\n\\nTIR AI Platform\\nGPU Dedicated Compute\\nCPU Intensive Cloud\\nHigh Memory Cloud\\nLinux Smart Dedicated\\ncPanel® Linux Cloud\\nWindows Cloud\\nWindows SQL Cloud\\nPlesk Windows Cloud\\nGPU Smart Dedicated\\nLoad Balancer\\n\\n\\n\\n\\nCompany\\n\\nAbout Us\\nMeet the Team\\nBecome a Partner\\nE2E in Media\\nTestimonials\\nInvestors\\nCareers\\nContact Us\\nContact Sales\\nEscalation Matrix\\nService Level Agreement\\nTerms of Service\\nPrivacy Policy\\nRefund Policy\\nPolicy FAQ\\n\\n\\n\\n\\nResources\\n\\nBlog\\nEvents\\nService Health Status\\nHelp\\nWhite Papers\\nEcosystem Enablers\\nCustomers\\nCertifications\\nCountries Served\\nFAQs\\n\\n\\n\\n\\n\\n\\nE2E Networks Limited\\nE2E Networks Limited is a NSE Listed AI-First Hyperscale Cloud Computing Platform.\\n\\n\\n\\n\\n\\n\\n\\n\\n\\n\\n\\nCIN Number: L72900DL2009PLC341980\\n\\n\\n\\n© Copyright 2023 E2E Networks Limited', metadata={'source': 'https://docs.e2enetworks.com/gpucloud/gpu/index.html', 'title': 'Welcome to E2E GPU cloud’s documentation! | E2E Networks  documentation', 'language': 'en'}),\n",
       "  Document(page_content='Contents:\\n\\nIntroduction\\nGetting Started\\nHow to Launch Nodes from Myaccount portal\\n1. Linux Compute Nodes\\n2. Window Compute Node\\n3. GPU\\n4. Linux Smart Dedicated Node\\n5. Window Smart Dedicated Compute Node\\n6. 1 Click deployment\\n\\n\\nE2E Spot Instance\\nWhy use Spot Instances ?\\nHow to Launch Spot Instances ?\\nChoosing an Image\\nFinalize and Create a Spot Instance Node\\nActions\\nUndeploy\\nDeploy\\nPower Off\\nReboot\\nReinstall Node\\n\\n\\nHow To Log Into Your Virtual Compute Node?\\nLog in to your Virtual Compute Node\\n\\n\\nHow To Log Into Your Windows Server Node ?\\nRemote Desktop to Your Server From a Local Windows Computer\\nRemote Desktop  to Your Server From a Linux Computer with Rdesktop\\nRemote Desktop From Mac OS X\\n\\n\\nManage your Nodes\\nNode Details\\nCDP Backup Details\\nNetwork\\nNode Security\\nMonitoring\\nAlerts\\nAudit log\\nActions\\n\\n\\nCreate Virtual Compute Node Image\\nIntroduction\\nCreate an Image\\nManage your Image\\nCreate New Node from Saved Images\\nCreate Scale Group from Saved Image', metadata={'source': 'https://docs.e2enetworks.com/computes/nodes/index.html', 'title': 'Welcome to E2E Virtual Compute Nodes’s documentation! | E2E Networks  documentation', 'language': 'en'}),\n",
       "  Document(page_content='Welcome to E2E GPU cloud’s documentation! | E2E Networks  documentation\\n\\n\\n\\n\\n\\n\\n\\n\\n\\n\\n\\n\\n\\n\\n\\n\\n\\n\\n\\n\\n      Skip to content\\n    \\n\\n\\n\\nE2E Cloud\\n\\nDocs\\nE2E Networks\\n\\n\\n\\n\\nToggle navigation menu\\n\\n\\n\\n\\n\\n              Login\\n            \\n\\n\\n\\n              Sign Up\\n            \\n\\n\\n\\n\\n\\n\\n\\n\\n\\n\\n\\n\\n\\n\\n\\n\\nE2E Networks  documentation\\n\\n\\n\\n\\n\\n⌘\\n    K\\n  \\n\\n\\n\\nDocs\\nE2E Networks\\n\\nMyaccount\\n\\n        Getting Started with Myaccount\\nSignUp Process for Indian Customers\\nCustomer validation Process for Indian Customers\\nSignUp Process for International Customers\\nCustomer Validation Process for International Process\\nCustomer Validation Process for Contact Persons\\nDomestic Customer Validation Process FAQs\\nInternational Customer Validation Process FAQs\\nSign In Process\\n\\n\\n   Release Notes\\n\\nCompute\\n\\nNodes\\n Virtual Compute Nodes\\n Monitoring\\n 1-Click Deployment\\n Active Directory\\n\\n\\nGPU\\nGPU Cloud\\n\\n\\nEQS\\nIntroduction\\nHow to Create EQS ?\\nActions\\nAdd Queue under tab\\nActions for queue service:\\nUsing SDK\\n\\n\\nAppliance\\nLoad Balancer Appliance', metadata={'source': 'https://docs.e2enetworks.com/gpucloud/gpu/index.html', 'title': 'Welcome to E2E GPU cloud’s documentation! | E2E Networks  documentation', 'language': 'en'}),\n",
       "  Document(page_content='Welcome to E2E GPU Cloud Documentation! | E2E Networks  documentation\\n\\n\\n\\n\\n\\n\\n\\n\\n\\n\\n\\n\\n\\n\\n\\n\\n\\n\\n\\n\\n      Skip to content\\n    \\n\\n\\n\\nE2E Cloud\\n\\nDocs\\nE2E Networks\\n\\n\\n\\n\\nToggle navigation menu\\n\\n\\n\\n\\n\\n              Login\\n            \\n\\n\\n\\n              Sign Up\\n            \\n\\n\\n\\n\\n\\n\\n\\n\\n\\n\\n\\n\\n\\n\\n\\n\\nE2E Networks  documentation\\n\\n\\n\\n\\n\\n⌘\\n    K\\n  \\n\\n\\n\\nDocs\\nE2E Networks\\n\\nMyaccount\\n\\n        Getting Started with Myaccount\\nSignUp Process for Indian Customers\\nCustomer validation Process for Indian Customers\\nSignUp Process for International Customers\\nCustomer Validation Process for International Process\\nCustomer Validation Process for Contact Persons\\nDomestic Customer Validation Process FAQs\\nInternational Customer Validation Process FAQs\\nSign In Process\\n\\n\\n   Release Notes\\n\\nCompute\\n\\nNodes\\n Virtual Compute Nodes\\n Monitoring\\n 1-Click Deployment\\n Active Directory\\n\\n\\nGPU\\nGPU Cloud\\n\\n\\nEQS\\nIntroduction\\nHow to Create EQS ?\\nActions\\nAdd Queue under tab\\nActions for queue service:\\nUsing SDK\\n\\n\\nAppliance\\nLoad Balancer Appliance', metadata={'source': 'https://docs.e2enetworks.com/gpucloud/index.html', 'title': 'Welcome to E2E GPU Cloud Documentation! | E2E Networks  documentation', 'language': 'en'}),\n",
       "  Document(page_content='Welcome to E2E GPU Cloud Documentation! | E2E Networks  documentation\\n\\n\\n\\n\\n\\n\\n\\n\\n\\n\\n\\n\\n\\n\\n\\n\\n\\n\\n\\n\\n      Skip to content\\n    \\n\\n\\n\\nE2E Cloud\\n\\nDocs\\nE2E Networks\\n\\n\\n\\n\\nToggle navigation menu\\n\\n\\n\\n\\n\\n              Login\\n            \\n\\n\\n\\n              Sign Up\\n            \\n\\n\\n\\n\\n\\n\\n\\n\\n\\n\\n\\n\\n\\n\\n\\n\\nE2E Networks  documentation\\n\\n\\n\\n\\n\\n⌘\\n    K\\n  \\n\\n\\n\\nDocs\\nE2E Networks\\n\\nMyaccount\\n\\n        Getting Started with Myaccount\\nSignUp Process for Indian Customers\\nCustomer validation Process for Indian Customers\\nSignUp Process for International Customers\\nCustomer Validation Process for International Process\\nCustomer Validation Process for Contact Persons\\nDomestic Customer Validation Process FAQs\\nInternational Customer Validation Process FAQs\\nSign In Process\\n\\n\\n   Release Notes\\n\\nCompute\\n\\nNodes\\n Virtual Compute Nodes\\n Monitoring\\n 1-Click Deployment\\n Active Directory\\n\\n\\nGPU\\nGPU Cloud\\n\\n\\nEQS\\nIntroduction\\nHow to Create EQS ?\\nActions\\nAdd Queue under tab\\nActions for queue service:\\nUsing SDK\\n\\n\\nAppliance\\nLoad Balancer Appliance', metadata={'source': 'https://docs.e2enetworks.com/gpucloud/index.html', 'title': 'Welcome to E2E GPU Cloud Documentation! | E2E Networks  documentation', 'language': 'en'})]}"
      ]
     },
     "execution_count": 14,
     "metadata": {},
     "output_type": "execute_result"
    }
   ],
   "source": [
    "result"
   ]
  },
  {
   "cell_type": "code",
   "execution_count": 39,
   "metadata": {},
   "outputs": [
    {
     "data": {
      "text/plain": [
       "[Document(page_content='How to Launch GPU H100 notebook | E2E Networks  documentation\\n\\n\\n\\n\\n\\n\\n\\n\\n\\n\\n\\n\\n\\n\\n\\n\\n\\n\\n\\n\\n      Skip to content\\n    \\n\\n\\n\\nE2E Cloud\\n\\nDocs\\nE2E Networks\\n\\n\\n\\n\\nToggle navigation menu\\n\\n\\n\\n\\n\\n              Login\\n            \\n\\n\\n\\n              Sign Up\\n            \\n\\n\\n\\n\\n\\n\\n\\n\\n\\n\\n\\n\\n\\n\\n\\n\\nE2E Networks  documentation\\n\\n\\n\\n\\n\\n⌘\\n    K\\n  \\n\\n\\n\\nDocs\\nE2E Networks\\n\\nMyaccount\\n\\n        Getting Started with Myaccount\\nSignUp Process for Indian Customers\\nCustomer validation Process for Indian Customers\\nSignUp Process for International Customers\\nCustomer Validation Process for International Process\\nCustomer Validation Process for Contact Persons\\nDomestic Customer Validation Process FAQs\\nInternational Customer Validation Process FAQs\\nSign In Process\\n\\n\\n   Release Notes\\n\\nCompute\\n\\nNodes\\n Virtual Compute Nodes\\n Monitoring\\n 1-Click Deployment\\n Active Directory\\n\\n\\nGPU\\nGPU Cloud\\n\\n\\nEQS\\nIntroduction\\nHow to Create EQS ?\\nActions\\nAdd Queue under tab\\nActions for queue service:\\nUsing SDK\\n\\n\\nAppliance\\nLoad Balancer Appliance', metadata={'source': 'https://docs.e2enetworks.com/AI_ML/gpu_notebook_h100.html', 'title': 'How to Launch GPU H100 notebook | E2E Networks  documentation', 'language': 'en'}),\n",
       " Document(page_content='Welcome to E2E GPU Cloud Documentation!\\nWelcome to the E2E GPU Cloud documentation! This comprehensive guide is designed to acquaint you with the vast array of\\nGPU computing solutions offered by E2E Networks. From high-performance Nvidia Tesla GPUs to versatile Nvidia Grid solutions,\\nthis documentation covers a range of topics to maximize your GPU cloud computing experience.\\nBegin with an Introduction to GPU Cloud Computing, exploring the benefits and applications of GPU-accelerated computing\\nin various fields. Dive deep into specific GPU offerings, such as Nvidia Tesla V100,\\nNvidia Tesla T4, and the\\nNVIDIA A40 and A100 GPUs. These sections provide detailed insights into each GPU’s capabilities and use cases.\\nFor developers and data scientists, the documentation includes practical guides and tutorials.\\nLearn how to leverage the NVIDIA® GPU Cloud (NGC) with E2E Cloud Compute for', metadata={'source': 'https://docs.e2enetworks.com/gpucloud/index.html', 'title': 'Welcome to E2E GPU Cloud Documentation! | E2E Networks  documentation', 'language': 'en'}),\n",
       " Document(page_content='Welcome to E2E GPU Cloud Documentation!\\nWelcome to the E2E GPU Cloud documentation! This comprehensive guide is designed to acquaint you with the vast array of\\nGPU computing solutions offered by E2E Networks. From high-performance Nvidia Tesla GPUs to versatile Nvidia Grid solutions,\\nthis documentation covers a range of topics to maximize your GPU cloud computing experience.\\nBegin with an Introduction to GPU Cloud Computing, exploring the benefits and applications of GPU-accelerated computing\\nin various fields. Dive deep into specific GPU offerings, such as Nvidia Tesla V100,\\nNvidia Tesla T4, and the\\nNVIDIA A40 and A100 GPUs. These sections provide detailed insights into each GPU’s capabilities and use cases.\\nFor developers and data scientists, the documentation includes practical guides and tutorials.\\nLearn how to leverage the NVIDIA® GPU Cloud (NGC) with E2E Cloud Compute for', metadata={'source': 'https://docs.e2enetworks.com/gpucloud/index.html', 'title': 'Welcome to E2E GPU Cloud Documentation! | E2E Networks  documentation', 'language': 'en'}),\n",
       " Document(page_content='Welcome to E2E GPU Cloud Documentation!\\nWelcome to the E2E GPU Cloud documentation! This comprehensive guide is designed to acquaint you with the vast array of\\nGPU computing solutions offered by E2E Networks. From high-performance Nvidia Tesla GPUs to versatile Nvidia Grid solutions,\\nthis documentation covers a range of topics to maximize your GPU cloud computing experience.\\nBegin with an Introduction to GPU Cloud Computing, exploring the benefits and applications of GPU-accelerated computing\\nin various fields. Dive deep into specific GPU offerings, such as Nvidia Tesla V100,\\nNvidia Tesla T4, and the\\nNVIDIA A40 and A100 GPUs. These sections provide detailed insights into each GPU’s capabilities and use cases.\\nFor developers and data scientists, the documentation includes practical guides and tutorials.\\nLearn how to leverage the NVIDIA® GPU Cloud (NGC) with E2E Cloud Compute for', metadata={'source': 'https://docs.e2enetworks.com/gpucloud/index.html', 'title': 'Welcome to E2E GPU Cloud Documentation! | E2E Networks  documentation', 'language': 'en'})]"
      ]
     },
     "execution_count": 39,
     "metadata": {},
     "output_type": "execute_result"
    }
   ],
   "source": [
    "result[\"docs\"]"
   ]
  },
  {
   "cell_type": "code",
   "execution_count": 50,
   "metadata": {},
   "outputs": [],
   "source": [
    "DEFAULT_DOCUMENT_PROMPT = PromptTemplate.from_template(template=\"{page_content}\")\n",
    "def _combine_documents(\n",
    "    docs, document_prompt=DEFAULT_DOCUMENT_PROMPT, document_separator=\"\\n\\n\"\n",
    "):\n",
    "    doc_strings = [format_document(doc, document_prompt).replace('\\n','') for doc in docs]\n",
    "\n",
    "    return document_separator.join(doc_strings)"
   ]
  },
  {
   "cell_type": "code",
   "execution_count": 51,
   "metadata": {},
   "outputs": [
    {
     "data": {
      "text/plain": [
       "'E2E Networks Documentation | E2E Networks  documentation      Skip to content    E2E CloudDocsE2E NetworksToggle navigation menu              Login                          Sign Up            E2E Networks  documentation⌘    K  DocsE2E NetworksMyaccount        Getting Started with MyaccountSignUp Process for Indian CustomersCustomer validation Process for Indian CustomersSignUp Process for International CustomersCustomer Validation Process for International ProcessCustomer Validation Process for Contact PersonsDomestic Customer Validation Process FAQsInternational Customer Validation Process FAQsSign In Process   Release NotesComputeNodes Virtual Compute Nodes Monitoring 1-Click Deployment Active DirectoryGPUGPU CloudEQSIntroductionHow to Create EQS ?ActionsAdd Queue under tabActions for queue service:Using SDKApplianceLoad Balancer ApplianceAuto ScalingIntroductionConceptsDefine Scale GroupsFaaSFunction as a Service (FaaS)How to Create FunctionsFunctions InformationNetworkCDNVPCHow to reserve an IP address?Reserve IP PoolDNSCustom Reverse DNSFirewallSecurity GroupTagSecurityFirewallBitninjaBest PracticesSSH Key ManagementAudit LogsPassword Policy2-Factor AuthenticationOthersLicense ManagementUser ManagementPurchase SSLCertbot-PluginApply or Redeem Coupon CodeAccount StatementCloud Platform SupportIntroductionPlatform SupportPolicy FAQE2E’s MyAccount FAQsCode of Conduct of Directors and Senior ManagementCSR PolicyWhistle blower policyJitsi MeetMod EvasiveMulti-site using cPanel SoftaculousCopying data from Linux to Windows using WinSCPMigrate MySQL Database Between DBaaSManage MySQLAbuseAbuse LogsAbuse AttacksSpam MailsPhishing ComplaintCopyright ComplaintBilling & PaymentE2E Networks payment optionsE2E Networks payment options for International customersE-MandateRedeem CouponCustomer Details UpdationSet-up Auto-Debit featureTDS Deduction processDeclaration u/s 206ABMinimum BillingProvisioning and Deprovisioning ProcessView Invoice and PaymentPrepaid BillingSet up Infra Credits Balance AlertWhatsapp notification for Payment reminderRestore Service on a Suspended Account for Non-PaymentDatabaseDatabaseDatabasePostgreSQLParameter GroupHow to create Parameter GroupStorageStorage Block Storage Object Storage CDP Backup Scalable File SystemKubernetesKubernetes ServiceIntroductionGetting StartedKubernetes ServiceNode Pool DetailsMonitoring GraphsAlertsActionsKubernetes MarketplaceMonitoring StackCert- ManagerNginx Ingress ControllerTroubleshootingArgo CD - Declarative GitOps CD for KubernetesDeploy to Kubernetes using Argo CD and GitOpsJenkins - CI ToolSetup Jenkins On Kubernetes ClusterAnsible - CD ToolIstio - ServiceConnecting to DbaasFAQSContainer RegisteryContainer RegistrySimplifying Pull Operations with User-Friendly InterfaceAPI Developers GuideAPISDKE2E CLI ToolIntroductionTerraformTerraformGetting Startede2e_node (Resource)Node Planse2e_image (Resource)AI/MLTIR AI Release NotesTIR AI PlatformIntroductionGetting StartedHow-to GuidesProjectsNotebooksCommitted NotebookGPU H100 PlansDatasetsModel RepositoryModel EndpointsFine Tuning ModelsModel PlaygroundSamples and TutorialsAPI TokensSSH KeyContainerTeam FeaturesSettingsAnalyticsBillingAI/ML TutorialsFine-tune LLMA with Multiple GPUsDeploy Inference for LLMA 2Deploy Inference for CodellamaDeploy Inference for Stable Diffusion v2.1Fine-tune Stable Diffusion model on TIRDeploy Inference for MPT-7B-CHATCustom Containers in TIRFine Tuning BloomNatural Language Queries to SQL wth Code LlamaE2E Networks DocumentationWelcome to E2E Networks’ platform documentation. E2E Networks Limited is India’s leading NSE-listed, AI-first, hyperscale cloud provider.Here, users will find detailed guides,tutorials, and troubleshooting tips covering a wide range of topics from CPU and GPU compute usage, to TIR AI Platform,Kubernetes services, Terraform, our ecosystem of cloud technologies, our APIs and SDK,storage solutions, and about our DBaaS platform.You will also find help on our Billing and Payment system, security, and our processes for handling abuse.You will also find tutorials that help you get started with building applications in the AI/ML domain.Finally, you can also check out our release notes for latest features, fixes and updates released on Myaccount.Getting StartedTo get started, head to Myaccount, and follow the sign up process explained here. Note that the process is slightly differentfor Indian individiuals, Indian organizations, and International organizations.Click here to get started.Our AI-First InfrastructureE2E Networks’ advanced cloud GPUs offer developers unprecedented access to high-performance computing resources,essential for tackling intensive tasks like machine learning, deep learning, and complex data analytics.Our GPUs, ranging from HGX 8xH100, A100 clusters, L4OS, T4 and others, are integrated into E2E’s cloud infrastructure, and provide a high-end platform to developers for AI inference and development.Get started with our GPU nodes here.TIR - AI PlatformTIR is a modern AI Development Platform designed to tackle the friction of training and serving large AI models.TIR uses highly optimised GPU containers (NGC), pre-configured environments (pytorch, tensorflow, triton), automated API generation for model serving, shared notebook storage, and much more.Learn more about TIR here.On this pageGetting StartedOur AI-First InfrastructureTIR - AI PlatformProductsTIR AI PlatformGPU Dedicated ComputeCPU Intensive CloudHigh Memory CloudLinux Smart DedicatedcPanel® Linux CloudWindows CloudWindows SQL CloudPlesk Windows CloudGPU Smart DedicatedLoad BalancerCompanyAbout UsMeet the TeamBecome a PartnerE2E in MediaTestimonialsInvestorsCareersContact UsContact SalesEscalation MatrixService Level AgreementTerms of ServicePrivacy PolicyRefund PolicyPolicy FAQResourcesBlogEventsService Health StatusHelpWhite PapersEcosystem EnablersCustomersCertificationsCountries ServedFAQsE2E Networks LimitedE2E Networks Limited is a NSE Listed AI-First Hyperscale Cloud Computing Platform.CIN Number: L72900DL2009PLC341980© Copyright 2023 E2E Networks Limited\\n\\nE2E Networks Documentation | E2E Networks  documentation      Skip to content    E2E CloudDocsE2E NetworksToggle navigation menu              Login                          Sign Up            E2E Networks  documentation⌘    K  DocsE2E NetworksMyaccount        Getting Started with MyaccountSignUp Process for Indian CustomersCustomer validation Process for Indian CustomersSignUp Process for International CustomersCustomer Validation Process for International ProcessCustomer Validation Process for Contact PersonsDomestic Customer Validation Process FAQsInternational Customer Validation Process FAQsSign In Process   Release NotesComputeNodes Virtual Compute Nodes Monitoring 1-Click Deployment Active DirectoryGPUGPU CloudEQSIntroductionHow to Create EQS ?ActionsAdd Queue under tabActions for queue service:Using SDKApplianceLoad Balancer ApplianceAuto ScalingIntroductionConceptsDefine Scale GroupsFaaSFunction as a Service (FaaS)How to Create FunctionsFunctions InformationNetworkCDNVPCHow to reserve an IP address?Reserve IP PoolDNSCustom Reverse DNSFirewallSecurity GroupTagSecurityFirewallBitninjaBest PracticesSSH Key ManagementAudit LogsPassword Policy2-Factor AuthenticationOthersLicense ManagementUser ManagementPurchase SSLCertbot-PluginApply or Redeem Coupon CodeAccount StatementCloud Platform SupportIntroductionPlatform SupportPolicy FAQE2E’s MyAccount FAQsCode of Conduct of Directors and Senior ManagementCSR PolicyWhistle blower policyJitsi MeetMod EvasiveMulti-site using cPanel SoftaculousCopying data from Linux to Windows using WinSCPMigrate MySQL Database Between DBaaSManage MySQLAbuseAbuse LogsAbuse AttacksSpam MailsPhishing ComplaintCopyright ComplaintBilling & PaymentE2E Networks payment optionsE2E Networks payment options for International customersE-MandateRedeem CouponCustomer Details UpdationSet-up Auto-Debit featureTDS Deduction processDeclaration u/s 206ABMinimum BillingProvisioning and Deprovisioning ProcessView Invoice and PaymentPrepaid BillingSet up Infra Credits Balance AlertWhatsapp notification for Payment reminderRestore Service on a Suspended Account for Non-PaymentDatabaseDatabaseDatabasePostgreSQLParameter GroupHow to create Parameter GroupStorageStorage Block Storage Object Storage CDP Backup Scalable File SystemKubernetesKubernetes ServiceIntroductionGetting StartedKubernetes ServiceNode Pool DetailsMonitoring GraphsAlertsActionsKubernetes MarketplaceMonitoring StackCert- ManagerNginx Ingress ControllerTroubleshootingArgo CD - Declarative GitOps CD for KubernetesDeploy to Kubernetes using Argo CD and GitOpsJenkins - CI ToolSetup Jenkins On Kubernetes ClusterAnsible - CD ToolIstio - ServiceConnecting to DbaasFAQSContainer RegisteryContainer RegistrySimplifying Pull Operations with User-Friendly InterfaceAPI Developers GuideAPISDKE2E CLI ToolIntroductionTerraformTerraformGetting Startede2e_node (Resource)Node Planse2e_image (Resource)AI/MLTIR AI Release NotesTIR AI PlatformIntroductionGetting StartedHow-to GuidesProjectsNotebooksCommitted NotebookGPU H100 PlansDatasetsModel RepositoryModel EndpointsFine Tuning ModelsModel PlaygroundSamples and TutorialsAPI TokensSSH KeyContainerTeam FeaturesSettingsAnalyticsBillingAI/ML TutorialsFine-tune LLMA with Multiple GPUsDeploy Inference for LLMA 2Deploy Inference for CodellamaDeploy Inference for Stable Diffusion v2.1Fine-tune Stable Diffusion model on TIRDeploy Inference for MPT-7B-CHATCustom Containers in TIRFine Tuning BloomNatural Language Queries to SQL wth Code LlamaE2E Networks DocumentationWelcome to E2E Networks’ platform documentation. E2E Networks Limited is India’s leading NSE-listed, AI-first, hyperscale cloud provider.Here, users will find detailed guides,tutorials, and troubleshooting tips covering a wide range of topics from CPU and GPU compute usage, to TIR AI Platform,Kubernetes services, Terraform, our ecosystem of cloud technologies, our APIs and SDK,storage solutions, and about our DBaaS platform.You will also find help on our Billing and Payment system, security, and our processes for handling abuse.You will also find tutorials that help you get started with building applications in the AI/ML domain.Finally, you can also check out our release notes for latest features, fixes and updates released on Myaccount.Getting StartedTo get started, head to Myaccount, and follow the sign up process explained here. Note that the process is slightly differentfor Indian individiuals, Indian organizations, and International organizations.Click here to get started.Our AI-First InfrastructureE2E Networks’ advanced cloud GPUs offer developers unprecedented access to high-performance computing resources,essential for tackling intensive tasks like machine learning, deep learning, and complex data analytics.Our GPUs, ranging from HGX 8xH100, A100 clusters, L4OS, T4 and others, are integrated into E2E’s cloud infrastructure, and provide a high-end platform to developers for AI inference and development.Get started with our GPU nodes here.TIR - AI PlatformTIR is a modern AI Development Platform designed to tackle the friction of training and serving large AI models.TIR uses highly optimised GPU containers (NGC), pre-configured environments (pytorch, tensorflow, triton), automated API generation for model serving, shared notebook storage, and much more.Learn more about TIR here.On this pageGetting StartedOur AI-First InfrastructureTIR - AI PlatformProductsTIR AI PlatformGPU Dedicated ComputeCPU Intensive CloudHigh Memory CloudLinux Smart DedicatedcPanel® Linux CloudWindows CloudWindows SQL CloudPlesk Windows CloudGPU Smart DedicatedLoad BalancerCompanyAbout UsMeet the TeamBecome a PartnerE2E in MediaTestimonialsInvestorsCareersContact UsContact SalesEscalation MatrixService Level AgreementTerms of ServicePrivacy PolicyRefund PolicyPolicy FAQResourcesBlogEventsService Health StatusHelpWhite PapersEcosystem EnablersCustomersCertificationsCountries ServedFAQsE2E Networks LimitedE2E Networks Limited is a NSE Listed AI-First Hyperscale Cloud Computing Platform.CIN Number: L72900DL2009PLC341980© Copyright 2023 E2E Networks Limited\\n\\nIndia\\'s Top Provider of Advanced Cloud GPUsClaim your spot on the waitlist for the NVIDIA H100 GPUs! Join WaitlistE2E CloudProductsPricingPartnersEventsCareersCompanyInvestorContact UsBlogLoginLoginSign UpIndia\\'s Top Provider of Advanced Cloud GPUsBuild a future in a world driven by AI with our cloud solutions. Get access to NVIDIA 8xH100, A100, L40S and more to run your AI/ML workloads. With significantly lower prices, we want to help your business thrive.Launch GPUContact SalesTrusted by 15,000+ ClientsAccelerated Cloud Built for DevelopersExploreCloud GPUsRun GPU intensive workloads with confidence across various industry verticals and experience high performance computing in the cloud.Starting as low as ₹ 30/hrTir: E2E Cloud’s Flagship Machine Learning PlatformTir is built on top of Jupyter Notebook, an advanced web-based interactive development environment offered by E2E Cloud.Starting as low as ₹ 3.1/hrLinux CloudExperience bare-metal performance on Cloud with zero noisy neighbor problem, and reliable performance.Starting as low as ₹ 3.50/hrWindows CloudRun your workloads on powerful, reliable Windows Server instances; available in cloud server and smart dedicated server variants.Starting as low as ₹ 3/hrStorage CloudE2E Cloud is offering secure, reliable, and cost-effective storage solutions. Businesses can schedule snapshots, automate backups, store and access their data from anywhere while ensuring quick and secure access.Starting as low as ₹ 2.5/GBCloud SolutionsSimplify the server administration and website management tasks with reliable, scalable Webuzo pre-installed cloud servers.Starting as low as ₹ 1/hrHigh-Value. Top Performance. Production-grade.E2E Networks focusses on bringing accelerated cloud computing at an incredible price-performance ratio.GPUCPUhigh-valueUnmatched Price-Performance RatioBuilding your production infrastructure on E2E Networks cloud leads to over 90% cost reduction in your monthly cloud bill.Cloud Cost ComparisoninfrastructureBattle-tested InfrastructureOver 15,000 clients trust E2E Networks to run their production workloads. Our multi-region cloud is built to be performant, reliable, resilient and secure for all sizes and scale.Learn MoreCONFIGURATIONSPre-configured with Industry-leading FrameworksOur containers are pre-configured with all major frameworks and libraries. All your tools and libraries run effortlessly on our platform.Explore Integrationsuse casesDesigned for Numerous Real-World Use CasesOur infrastructure cloud is used for solutions in domains ranging from Data Science, NLP, Computer Vision / Image Processing, Observability, HealthTech, ConsumerTech, and more.Explore CustomersDesign and implement data-parallel algorithms that scale to hundreds of tightly coupled processing units: molecular modelling, fluid dynamics and others.Accelerate Convolutional Neural Networks based deep-learning workloads like video analysis, facial recognition, medical imaging and others.Providing 72 RT core allows for performing the real-time RAY Tracing. It is certified by the leading graphics organizations on sophisticated professional applications.CONFIGURATIONSBuilt With Everything You NeedEach workload on E2E Networks is built with everything you need to run your development or production stack.E2E VolumesAlso known as EBS, E2E Block Storage Provides block-level storage volumes to use with our compute nodes. These volumes can be attached to your computing nodes which makes its data and file system...Cloud Load BalancersLeave the hassle of maintaining your load balancers and focus more on your applications & customers with fully-managed Load Balancer Appliances.Object StorageAlso known as EOS, E2E object storage is an SSD-based S3-compatible object storage service designed for demanding workloads like machine learning and deep learning.One-click DeploymentAt E2E Networks, we understand the need for a quick deployment of infrastructure for both the prod and pre-prod environments.DBaaSSetup, operate, and manage your database in the cloud with just a few clicks. Experience the Database service designed for mission-critical applications.API & CLI AccessE2E API lets you programmatically manage nodes and resources (which you traditionally manage via the MyAccount portal) on E2E Cloud using conventional HTTP requests.CDNE2E CDN is a global content delivery network that distributes your content & web pages to end-users with minimal latency, creating enhanced experiences for your customers.Reserved IPReserve new IP addresses & assign them to your nodes or keep them idle as you need — also, reserve IP addresses of your existing nodes.E2E Auto ScaleWith the all-new E2E Auto Scaling feature, now on E2E Cloud, dynamically scale up & scale back your applications & workloads as your situation demands.Virtual\\xa0Private CloudE2E Networks Virtual Private Cloud enables you to launch E2E nodes into a virtual network that you’ve defined. This virtual network closely resembles a traditional network that you’d operate in your own data centre.What Our Customers SayFor over a decade, we have delighted our customers with stellar infrastructure and support.I recently signed up with E2E Networks for their Cloud Server services and I have been very impressed with their Linux servers. The service is not only very affordable, but it also offers great performance and reliability. I would highly recommend E2E Networks to anyone looking for a reliable and cost-effective cloud server provider, especially for Indian clients. Proud WadhwaDjango Developer, Great Future Technology Pvt. Ltd.I recently signed up with E2E Networks for their Cloud Server services and I have been very impressed with their Linux servers. The service is not only very affordable, but it also offers great performance and reliability. I would highly recommend E2E Networks to anyone looking for a reliable and cost-effective cloud server provider, especially for Indian clients. Proud WadhwaDjango Developer, Great Future Technology Pvt. Ltd.This is one of the best cloud server providers as we are part of this provider and using it, the service and other things are good and accurate.Hardeep Singh AhluwaliaSenior Manager- IT Infra, Successive TechnologiesWe have been using E2E Networks for the past 6 months and I am extremely satisfied with the service and the customer support. Their servers are quite reliable and very cost-effective, especially the GPU machines. The team is always ready to solve any problem however small. Very happy to make E2E Networks our long-term partnersHarshit AgrawalData Scientist at Studio SirahHave been using E2E Networks infra for a decade now and never had any issues. Scootsy ran 80% of the workload on E2E Networks before it was acquired by Swiggy.Kunal ShethFounder GottaGo, Ex CTO at Scootsy/Antfarm. We at CamCom are using E2E GPU servers for a while now and the price-performance is the best in the Indian market. We also have enjoyed a fast turnaround from the support and sales team always. I highly recommend the E2E GPU servers for machine learning, deep learning and Image processing purpose.Mr. Uma MaheshCOO at CamCom AIE2E Cloud is NextGen PaaS / IaaS provider. It is a fully augmented and automated platform that is the best in practice in the current Cloud market. We are using E2E Networks for more than 5 years and are very much satisfied with the deliverables. They have very affordable pricing and are change-maker in the Indian Hosting Industry.Mr. Devarsh PandyaFounder at CantechE2E GPU machines are superior in terms of performance and at the same time you end up saving more money compared to AWS and Azure. Not to mention the agility and skilled customer support that comes along.Arvind SainiVP of Engineering at Crownit (GoldVIP)The customer support that E2E has provided us is beyond exceptional. Their quick response is what makes them stand apart from others and is second to none in the cloud space. We\\'ve been using their GPU instances for our Deep Learning workloads for quite a long time. The quality of service is amazing at a competitive price and we strongly recommend E2E.Akshay Kumar CFounder, COO at Marsview.ai incCongratulations! Thanks for the fast, reliable, and cost-effective solution for my small startup since Mar 2016!Ratul NandiLead Software Engineer @ Gartner (previously CEB)You guys are doing everything perfectly. I couldn\\'t ask for anything more. Keep it up. Very happy with the service.Mr. Mayank MalhotraDirector @ZenwebnetE2E Networks has helped me reach my 1st goal with its cloud platform. They gave us a trial to get used to the service. Happy with their product, will surely recommend others to try it once. Good support so far.Shahnawaz Alam CTO@ HW Wellness Solutions Pvt. LtdFor most startups, AWS EC2 is unnecessarily costly. Even better, for India get a machine from E2E Networks.Naman SarawagiFounder @ FindYogiI am very much happy with E2E Networks Pvt. Ltd. I’m using your services for the past year and I have provided E2E with multiple clients. Whoever is looking for servers I strongly recommend E2E Networks.Protik BanerjeeRelcode Technology Pvt. LtdI had a pleasant experience with E2E Network when I purchase the cPanel license plan. They provided the onboarding support when I generated a ticket for the purchase. Everything was delivered swiftly without any problems.Chaitanyakumar GajjarFounder @ Infinity Software SolutionsPlease reach out to e2e networks if you need any cloud services - their service is awesome, I want to rate 5/5 for their services.Shreeketh@IssaniWe are using E2E Cloud servers since last 2 years. Very happy with cost-effective and high-performance compute nodes. We were able to reduce our hosting expenses by 40% without compromising on quality, security, and stability.Vinod PandeyCofounder CTO, myCBSEguideReally good service from E2E Networks. And at very affordable prices. We are satisfied with them. The Cloud console access feature is a very good and very easy user interface. And I am satisfied with the service, features, and High-performance network for data upload/download.Varun SharmaCeo @ WebFreakSolutionEasy to Manage, Easy to pay “Low Cost\" Charan SinghSr. Manager Crayons Advertising Pvt. LtdI have been using E2E Cloud for almost a year now. These guys are the most professional of all the cloud providers in India. They have absolutely reliable products and also charge the lowest rate. I would like to recommend it to all who are looking for COST Effective cloud servers.Naresh KumarSystem Administrator @Aravali College of Engg. & MgmtOur experience with E2E has been better than AWS, as our website is performing better, both in terms of latency and uptime. Since, E2E provides plans that are simple to understand, implement and are a complete package, our efforts are concentrated on the development and not on maintaining the infrastructure.Arjun GuptaSenior Manager @ Pharma Synth Formulations LimitedWe have been using Kubernetes cluster on E2E Cloud and are reasonably satisfied with its performance. We were able to reduce our costs by 40% after migrating from Azure. My big thanks to the E2E Cloud team for launching a Cloud and helping Indian startups in reducing their cloud costs.Amarjeet SinghCo-Founder & CTO @ ZenatixThe platform is comfortable, support is good. 2 years anniversary completed in E2E.Mr. Yonti LevinCo-Founder & CTO at Loora99.99% SLA. 100% Human Support.Our customers swear by the proactiveness of our support staff, and our obsessive focus on uptime SLA. Talk to our sales team now to learn more.100% Human SupportUnlike other cloud providers, our support team is always reachable.99.99% Uptime SLAUptime SLAs such that you worry less and do more.High ReliabilityCloud platform powered by robust engineering to ensure high-reliability.Build on the most powerful infrastructure cloudGet Started for FreeContact SalesPress and Media MentionsListed on NSE. Backed by Blume Ventures. Loved by Press.ProductsCPU Intensive CloudHigh Memory CloudLinux Smart DedicatedcPanel® Linux CloudWindows CloudWindows SQL CloudPlesk Windows CloudGPU Smart DedicatedLoad BalancerCompanyAbout UsMeet the TeamBecome a PartnerE2E in MediaTestimonialsInvestorsCareersContact UsContact SalesEscalation MatrixService Level AgreementTerms of ServicePrivacy PolicyRefund PolicyPolicy FAQResourcesBlogEventsService Health StatusHelpWhite-PapersEcosystem EnablersCustomersCertificationsCountries ServedFAQsE2E CloudE2E Networks Limited is India\\'s fastest growing accelerated cloud computing player.Subscribe to our newsletterGet latest news, articles, resources and trends delivered to your inbox weekly.Thank you! Your submission has been received!Oops! Something went wrong while submitting the form.CIN Number: L72900DL2009PLC341980© Copyright 2023 E2E Networks LimitedYouTubeInstagram'"
      ]
     },
     "execution_count": 51,
     "metadata": {},
     "output_type": "execute_result"
    }
   ],
   "source": [
    "_combine_documents(docs[1:4])"
   ]
  },
  {
   "cell_type": "code",
   "execution_count": 25,
   "metadata": {},
   "outputs": [],
   "source": [
    "final_answer = (\n",
    "    result[\"answer\"] + \"\\n\\n\"\n",
    "    \"For further assistance follow the links below:\\n\"\n",
    "    f\"1. {result['docs'][0].metadata['source']}\\n\"\n",
    "    f\"2. {result['docs'][1].metadata['source']}\\n\"\n",
    "    f\"3. {result['docs'][2].metadata['source']}\"\n",
    ")"
   ]
  },
  {
   "cell_type": "code",
   "execution_count": 27,
   "metadata": {},
   "outputs": [
    {
     "data": {
      "text/markdown": [
       "\n",
       "\n",
       "\n",
       "\n",
       "Answer:\n",
       "To start a GPU node using the E2E Networks Myaccount portal, follow these steps:\n",
       "\n",
       "1. Log in to your E2E Networks account at https://myaccount.e2enetworks.com/.\n",
       "2. Navigate to the \"Compute\" tab and select \"GPU\" from the dropdown menu.\n",
       "3. Click the \"Create\" button to initiate the creation of a new GPU node.\n",
       "4. Choose the desired GPU instance type and specify any additional settings or configurations.\n",
       "5. Once the node has been created, you'll be taken to its details page. Here, you can find the public IP address and other relevant information.\n",
       "6. To start the node, click the \"Start\" button located near the top of the page. The node will begin booting up and should be ready to use within a few minutes.\n",
       "\n",
       "If you encounter any issues during the process, please refer to the E2E Networks documentation or contact our support team for assistance.\n",
       "\n",
       "For further assistance follow the links below:\n",
       "1. https://docs.e2enetworks.com/AI_ML/gpu_notebook_h100.html\n",
       "2. https://docs.e2enetworks.com/gpucloud/index.html\n",
       "3. https://docs.e2enetworks.com/gpucloud/index.html"
      ],
      "text/plain": [
       "<IPython.core.display.Markdown object>"
      ]
     },
     "metadata": {},
     "output_type": "display_data"
    }
   ],
   "source": [
    "from IPython.display import display, Markdown\n",
    "\n",
    "\n",
    "display(Markdown(final_answer))\n"
   ]
  },
  {
   "cell_type": "code",
   "execution_count": null,
   "metadata": {},
   "outputs": [],
   "source": []
  }
 ],
 "metadata": {
  "kernelspec": {
   "display_name": ".venv",
   "language": "python",
   "name": "python3"
  },
  "language_info": {
   "codemirror_mode": {
    "name": "ipython",
    "version": 3
   },
   "file_extension": ".py",
   "mimetype": "text/x-python",
   "name": "python",
   "nbconvert_exporter": "python",
   "pygments_lexer": "ipython3",
   "version": "3.10.13"
  }
 },
 "nbformat": 4,
 "nbformat_minor": 2
}
